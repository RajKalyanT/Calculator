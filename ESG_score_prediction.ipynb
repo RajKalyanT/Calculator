{
  "nbformat": 4,
  "nbformat_minor": 0,
  "metadata": {
    "colab": {
      "provenance": [],
      "authorship_tag": "ABX9TyM8zLl6grrY24LPJF+r5Xhz",
      "include_colab_link": true
    },
    "kernelspec": {
      "name": "python3",
      "display_name": "Python 3"
    },
    "language_info": {
      "name": "python"
    }
  },
  "cells": [
    {
      "cell_type": "markdown",
      "metadata": {
        "id": "view-in-github",
        "colab_type": "text"
      },
      "source": [
        "<a href=\"https://colab.research.google.com/github/RajKalyanT/Calculator/blob/main/ESG_score_prediction.ipynb\" target=\"_parent\"><img src=\"https://colab.research.google.com/assets/colab-badge.svg\" alt=\"Open In Colab\"/></a>"
      ]
    },
    {
      "cell_type": "markdown",
      "source": [
        "# **Inputs**"
      ],
      "metadata": {
        "id": "oHYQFJmUEseM"
      }
    },
    {
      "cell_type": "code",
      "execution_count": 15,
      "metadata": {
        "id": "_DxgKym4Dp8Q"
      },
      "outputs": [],
      "source": [
        "import pandas as pd\n",
        "from sklearn.ensemble import RandomForestRegressor\n",
        "from sklearn.model_selection import train_test_split, GridSearchCV\n",
        "from sklearn.preprocessing import StandardScaler\n",
        "from sklearn.metrics import mean_absolute_error, r2_score\n",
        "import matplotlib.pyplot as plt\n",
        "import seaborn as sns"
      ]
    },
    {
      "cell_type": "markdown",
      "source": [
        "\n",
        "\n",
        "---\n",
        "\n"
      ],
      "metadata": {
        "id": "Y7Ebbx4XEpoJ"
      }
    },
    {
      "cell_type": "markdown",
      "source": [
        "# **Load the Dataset**\n"
      ],
      "metadata": {
        "id": "x_bWI2qKExmM"
      }
    },
    {
      "cell_type": "code",
      "source": [
        "# Load the dataset\n",
        "data = pd.read_csv('esg_data.csv')\n",
        "\n",
        "# Display the first few rows of the dataset\n",
        "print(data.head())\n"
      ],
      "metadata": {
        "colab": {
          "base_uri": "https://localhost:8080/"
        },
        "id": "GG43vyKfFGZE",
        "outputId": "1b8c4b1b-0004-434f-fe89-5298d597c581"
      },
      "execution_count": 16,
      "outputs": [
        {
          "output_type": "stream",
          "name": "stdout",
          "text": [
            "   Rainfall  Emissions  Temperature_Change  GDP_Growth  Inflation_Rate  \\\n",
            "0      1100         10                 1.2         5.0             3.1   \n",
            "1      1300         12                 1.3         4.8             2.5   \n",
            "2      1000          8                 1.0         6.0             3.2   \n",
            "3      1200         15                 1.5         5.5             2.9   \n",
            "4       900          5                 0.8         6.2             1.8   \n",
            "\n",
            "   Beneficiary_Count  Diversity_Index  Renewable_Energy_Usage  \\\n",
            "0               2000               45                      80   \n",
            "1               2500               50                      75   \n",
            "2               1500               40                      60   \n",
            "3               3000               48                      70   \n",
            "4               1800               42                      55   \n",
            "\n",
            "   Governance_Policies  Audit_Compliance_Score  Commitment_Amount  \\\n",
            "0                    6                      90                 50   \n",
            "1                    5                      92                 55   \n",
            "2                    4                      85                 45   \n",
            "3                    7                      95                 60   \n",
            "4                    3                      89                 40   \n",
            "\n",
            "   Environmental_Category  ESG_Score  \n",
            "0                       1       85.5  \n",
            "1                       2       80.0  \n",
            "2                       0       88.2  \n",
            "3                       1       83.7  \n",
            "4                       2       86.4  \n"
          ]
        }
      ]
    },
    {
      "cell_type": "markdown",
      "source": [
        "# **Preprocessing the Data**"
      ],
      "metadata": {
        "id": "aerxYiZRFKR4"
      }
    },
    {
      "cell_type": "code",
      "source": [
        "X = data.drop(columns=['ESG_Score'])  # Features (all columns except ESG_Score)\n",
        "y = data['ESG_Score']  # Target (ESG_Score column)\n",
        "\n",
        "X_train, X_test, y_train, y_test = train_test_split(X, y, test_size=0.2, random_state=42)\n",
        "\n",
        "scaler = StandardScaler()\n",
        "X_train_scaled = scaler.fit_transform(X_train)\n",
        "X_test_scaled = scaler.transform(X_test)"
      ],
      "metadata": {
        "id": "XHsA9kuaFODm"
      },
      "execution_count": 17,
      "outputs": []
    },
    {
      "cell_type": "markdown",
      "source": [
        "# **Model Training**\n",
        "Using **Random Forest Regression**"
      ],
      "metadata": {
        "id": "opgBC3YeFV0M"
      }
    },
    {
      "cell_type": "code",
      "source": [
        "rf = RandomForestRegressor(random_state=42)\n",
        "\n",
        "param_grid = {\n",
        "    'n_estimators': [100, 200, 300],\n",
        "    'max_depth': [10, 20, 30],\n",
        "    'min_samples_split': [2, 5, 10],\n",
        "    'min_samples_leaf': [1, 2, 4]\n",
        "}\n",
        "\n",
        "\n",
        "grid_search = GridSearchCV(estimator=rf, param_grid=param_grid, cv=5, n_jobs=-1, verbose=2)\n",
        "\n",
        "grid_search.fit(X_train_scaled, y_train)\n",
        "\n",
        "best_rf = grid_search.best_estimator_\n",
        "y_pred = best_rf.predict(X_test_scaled)"
      ],
      "metadata": {
        "colab": {
          "base_uri": "https://localhost:8080/"
        },
        "id": "6ombbihwFmgO",
        "outputId": "1e98f660-5ca2-44e2-fe08-1012cc7b3d12"
      },
      "execution_count": 18,
      "outputs": [
        {
          "output_type": "stream",
          "name": "stdout",
          "text": [
            "Fitting 5 folds for each of 81 candidates, totalling 405 fits\n"
          ]
        }
      ]
    },
    {
      "cell_type": "markdown",
      "source": [
        "# **Evaluate the Model**"
      ],
      "metadata": {
        "id": "wSTybPsvF7hF"
      }
    },
    {
      "cell_type": "code",
      "source": [
        "mae = mean_absolute_error(y_test, y_pred)\n",
        "r2 = r2_score(y_test, y_pred)\n",
        "\n",
        "print(f\"Optimized MAE: {mae}\")\n",
        "print(f\"Optimized R-squared: {r2}\")\n",
        "\n",
        "plt.figure(figsize=(8, 6))\n",
        "sns.scatterplot(x=y_test, y=y_pred, color='blue', alpha=0.7)\n",
        "plt.title('Actual vs Predicted ESG Scores', fontsize=16)\n",
        "plt.xlabel('Actual ESG Scores', fontsize=12)\n",
        "plt.ylabel('Predicted ESG Scores', fontsize=12)\n",
        "plt.plot([min(y_test), max(y_test)], [min(y_test), max(y_test)], color='red', linestyle='--')  # Add a line for perfect predictions\n",
        "plt.show()"
      ],
      "metadata": {
        "colab": {
          "base_uri": "https://localhost:8080/",
          "height": 605
        },
        "id": "ooBiEi7XF_Ck",
        "outputId": "9d832818-906f-4a36-8c68-48661d1fc952"
      },
      "execution_count": 19,
      "outputs": [
        {
          "output_type": "stream",
          "name": "stdout",
          "text": [
            "Optimized MAE: 1.6354567299983873\n",
            "Optimized R-squared: 0.6032289374439058\n"
          ]
        },
        {
          "output_type": "display_data",
          "data": {
            "text/plain": [
              "<Figure size 800x600 with 1 Axes>"
            ],
            "image/png": "[encoded data removed]"
          },
          "metadata": {}
        }
      ]
    },
    {
      "cell_type": "markdown",
      "source": [
        "# **Save the Model**"
      ],
      "metadata": {
        "id": "0eZ60kC_GKzG"
      }
    },
    {
      "cell_type": "code",
      "source": [
        "import joblib\n",
        "joblib.dump(best_rf, 'esg_score_model.pkl')"
      ],
      "metadata": {
        "colab": {
          "base_uri": "https://localhost:8080/"
        },
        "id": "fdPtN35CGYMC",
        "outputId": "ff07dbb4-b180-42fa-ab76-e6716d822b40"
      },
      "execution_count": 20,
      "outputs": [
        {
          "output_type": "execute_result",
          "data": {
            "text/plain": [
              "['esg_score_model.pkl']"
            ]
          },
          "metadata": {},
          "execution_count": 20
        }
      ]
    }
  ]
}